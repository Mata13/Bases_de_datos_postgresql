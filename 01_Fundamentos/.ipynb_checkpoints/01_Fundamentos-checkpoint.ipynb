{
 "cells": [
  {
   "cell_type": "markdown",
   "id": "cda87101-206c-4521-a7e8-c048d667e0c9",
   "metadata": {},
   "source": [
    "<font color='IndianRed'>\n",
    "<font size=9> \n",
    "\n",
    "**Curso Bases de Datos con PostgreSQL**"
   ]
  },
  {
   "cell_type": "markdown",
   "id": "64881eef-ca7b-455b-8365-0d22eee35114",
   "metadata": {},
   "source": [
    "<font color = 'DodgerBlue'>\n",
    "<font size = 6>\n",
    "    \n",
    "**Introducción**"
   ]
  },
  {
   "cell_type": "markdown",
   "id": "39829da7-ae10-4706-b8f9-ff2ad234fe6f",
   "metadata": {},
   "source": [
    "<font color = 'DodgerBlue'>\n",
    "<font size = 5>\n",
    "    \n",
    "**¿Qué es SQL?**"
   ]
  },
  {
   "cell_type": "markdown",
   "id": "7b1e899c-f0a4-4c3a-997f-7833fa565bc4",
   "metadata": {},
   "source": [
    "<font color = 'Black'>\n",
    "<font size = 3>\n",
    "\n",
    "**SQL** en realidad no es un **lenguaje de programación** como tal, sino una gran **familia de lenguajes de programación**, todos orientados a lo que se conoce como *búsquedas estructuradas* (**SQL** = **S**tructured **Q**uery **L**anguaje).\n",
    "\n",
    "De esta manera, **SQL** es en realidad un **conjunto de lenguajes de programación**, todos con un mismo objetivo, y que tienen una sintaxis muy parecida entre ellos. Esto significa que si aprendes a utilizar uno, podrás aprender muy fácilmente cualquiera de los otros.\n",
    "\n",
    "Algunos ejemplos de lenguajes tipo **SQL** son **MySQL**, **SQLite**, **MariaDB** y **PostgreSQL**, entre otros.\n",
    "\n",
    "Ahora, ¿qué es una búsqueda estructurada? \n",
    "\n",
    "Imagina que tienes una tabla de datos con varias columnas y te gustaría ver únicamente los renglones correspondientes a algunas columnas y que los valores en esas columnas cumplan con cierta condición. Por ejemplo, tienes la siguiente tabla:\n",
    "\n",
    "<img src = \"Img/c00_t1.png\">\n",
    "\n",
    "Ahora, te interesan las mujeres de 15 años que tienen 10 en matemáticas. Entonces vas a **buscar** (query) a las mujeres de 15 años con 10 en matemáticas. Esa búsqueda se puede hacer **de forma estructurada** (structured):\n",
    "\n",
    "- De la tabla original, elige las columnas nombre, sexo, edad y matemáticas (las otras columnas no te interesan). Otenemos lo siguiente:\n",
    "\n",
    "<img src = \"Img/c00_t2.png\">\n",
    "\n",
    "- Luego filtra las mujeres\n",
    "\n",
    "<img src = \"Img/c00_t3.png\">\n",
    "\n",
    "- Luego filtra cuando las edades son 15\n",
    "\n",
    "<img src = \"Img/c00_t4.png\">\n",
    "\n",
    "- Luego filtra cuando la calificación en matemáticas es 10\n",
    "\n",
    "<img src = \"Img/c00_t5.png\">\n",
    "\n",
    "¡Hemos hecho una búsqueda secuencial!\n",
    "\n",
    "---"
   ]
  },
  {
   "cell_type": "markdown",
   "id": "8346b935-cb00-47b2-9d46-510f33d8293a",
   "metadata": {},
   "source": [
    "<font color = 'DodgerBlue'>\n",
    "<font size = 5>\n",
    "    \n",
    "**¿Qué es Pgadmin?**"
   ]
  },
  {
   "cell_type": "markdown",
   "id": "d38e0f7e-d55c-4178-b205-b502c942e38d",
   "metadata": {},
   "source": [
    "<font color = 'Black'>\n",
    "<font size = 3>\n",
    "\n",
    "**PostgreSQL** es un lenguaje de tipo **SQL** y el programa que utilizaremos para hablarlo con nuestra computadora es **Pgadmin**. \n",
    "\n",
    "---"
   ]
  },
  {
   "cell_type": "markdown",
   "id": "040162aa-db91-44da-906c-a24b7395df1c",
   "metadata": {},
   "source": [
    "<font color = 'DodgerBlue'>\n",
    "<font size = 5>\n",
    "    \n",
    "**¿Qué es una base de datos?**"
   ]
  },
  {
   "cell_type": "markdown",
   "id": "a4a03908-9280-479e-8f10-7567c640e9a4",
   "metadata": {},
   "source": [
    "<font color = 'Black'>\n",
    "<font size = 3>\n",
    "\n",
    "Una **base de datos** es un **conjunto de tablas**. \n",
    "\n",
    "Se dice que es **relacional** si existen relaciones intrínsecas entre esas tablas.\n",
    "\n",
    "---\n",
    "\n",
    "Una **base de datos** es un “almacén” que nos permite guardar grandes cantidades de información de forma organizada para que luego podamos encontrar y utilizar fácilmente.\n",
    "\n",
    "Una **base de datos** se puede definir como un conjunto de información relacionada que se encuentra agrupada ó estructurada. Cada **base de datos** se compone de una o más tablas que guarda un conjunto de datos. Cada tabla tiene una o más columnas y filas. Las **columnas**, también llamadas **campos**, guardan una parte de la información sobre cada elemento que queramos guardar en la tabla, cada **fila** de la tabla conforma un **registro**.\n",
    "\n",
    "Los Sistemas de Gestión de Base de Datos (en inglés DataBase Management System) son un tipo de software muy específico, dedicado a servir de interfaz entre la base de datos, el usuario y las aplicaciones que la utilizan. Se compone de un lenguaje de definición de datos, de un lenguaje de manipulación de datos y de un lenguaje de consulta.\n",
    "\n",
    "---"
   ]
  },
  {
   "cell_type": "markdown",
   "id": "e1b2619c-3cc5-4e19-9fae-cbf4c8f7e631",
   "metadata": {},
   "source": [
    "<font color = 'Brown'>\n",
    "<font size = 4>\n",
    "    \n",
    "**Notas**"
   ]
  },
  {
   "cell_type": "markdown",
   "id": "f2efa215-d1cd-4a8a-9721-499e0f526c29",
   "metadata": {},
   "source": [
    "<font color = 'DarkRed'>\n",
    "<font size = 3>\n",
    "\n",
    "- Las **bases de datos NOSQL** no son relacionales y no usan un formato tabular para almacenar los datos. Estas aparecen en Big Data."
   ]
  }
 ],
 "metadata": {
  "kernelspec": {
   "display_name": "Python 3 (ipykernel)",
   "language": "python",
   "name": "python3"
  },
  "language_info": {
   "codemirror_mode": {
    "name": "ipython",
    "version": 3
   },
   "file_extension": ".py",
   "mimetype": "text/x-python",
   "name": "python",
   "nbconvert_exporter": "python",
   "pygments_lexer": "ipython3",
   "version": "3.10.16"
  }
 },
 "nbformat": 4,
 "nbformat_minor": 5
}
