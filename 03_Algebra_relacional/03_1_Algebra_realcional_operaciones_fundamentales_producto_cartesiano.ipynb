{
 "cells": [
  {
   "cell_type": "markdown",
   "id": "1404a423-c533-4605-8dc2-191f08c36fcd",
   "metadata": {},
   "source": [
    "<font color='IndianRed'>\n",
    "<font size=9> \n",
    "\n",
    "**Bases de Datos con PostgreSQL**"
   ]
  },
  {
   "cell_type": "markdown",
   "id": "63029a7c-44e2-42ed-9b7b-8d131581e97f",
   "metadata": {},
   "source": [
    "<font color = 'DodgerBlue'>\n",
    "<font size = 5>\n",
    "    \n",
    "**Producto cartesiano.**"
   ]
  },
  {
   "cell_type": "markdown",
   "id": "629b5b25-8df2-480a-8951-6dfbe10acf60",
   "metadata": {},
   "source": [
    "<font color = 'Black'>\n",
    "<font size = 3>\n",
    "\n",
    "Consideremos dos conjuntos finitos (en realidad esta restricción solo es práctica) $A$ y $B$. Se define su **producto cartesiano** como el conjunto $A\\times B=\\{(a,b)\\,:\\,a\\in A\\mbox{ y }b\\in B\\}$.\n",
    "\n",
    "Es decir, el **producto cartesiano** son todas las parejas que se pueden formar donde la primera entrada es cualquier elemento de $A$ y la segunda entrada es cualquier elemento de $B$. Luego, si $A$ tiene $n$ elementos y $B$ tiene $m$ elementos, entonces el producto cartesiano de ambos conjuntos tiene $n \\cdot m$ elementos.\n",
    "\n",
    "Si $A = \\{'Hola', 'Crayola'\\}$ y $B = \\{1, 4, 2, 6\\}$. Entonces $A \\times B = \\{('Hola', 1), ('Hola', 4), ('Hola', 2), ('Hola', 6), ('Crayola', 1), ('Crayola', 4), ('Crayola', 2), ('Crayola', 6)\\}$\n",
    "\n",
    "---"
   ]
  },
  {
   "cell_type": "markdown",
   "id": "1cf8ade2-07a0-4460-b7ca-8b7789960918",
   "metadata": {},
   "source": [
    "<font color = 'Black'>\n",
    "<font size = 3>\n",
    "\n",
    "Consideremos las siguientes tablas:\n",
    "\n",
    "**Tabla camisas**\n",
    "\n",
    "|Id_camisa|camisa|Precio|\n",
    "|--|--|--|\n",
    "|1|lino blanco|210|\n",
    "|2|algodon naranja|290|\n",
    "|3|seda negra|260|\n",
    "\n",
    "**Tabla pantalones**\n",
    "\n",
    "|Id_pantalon|pantalon|Precio|\n",
    "|--|--|--|\n",
    "|1|mezclilla azul|470|\n",
    "|2|mezclilla negra|730|\n",
    "\n",
    "\n",
    "Si nos preguntáramos de cuántas maneras nos podemos vestir utilizando las prendas anteriores, es claro que la respuesta es 6. Todas las posibles maneras de hacerlo nos la da la tabla formada por el producto cartesiano de ambas tablas, considerando que las tablas son conjuntos de registros.\n",
    "\n",
    "Esto nos da como salida la tabla\n",
    "\n",
    "**Tabla camisas x pantalones**\n",
    "\n",
    "|Id_camisa|camisa|Precio|Id_pantalon|pantalon|Precio|\n",
    "|--|--|--|--|--|--|\n",
    "|1|lino blanco|210|1|mezclilla azul|470|\n",
    "|1|lino blanco|210|2|mezclilla negra|730|\n",
    "|2|algodon naranja|210|1|mezclilla azul|470|\n",
    "|2|algodon naranja|210|2|mezclilla negra|730|\n",
    "|3|seda negra|210|1|mezclilla azul|470|\n",
    "|3|seda negra|210|2|mezclilla negra|730|\n",
    "\n",
    "\n",
    "Más aún, supongamos que no nos interesaban los Id, de modo que podemos hacer el producto cartesiano \n",
    "$$\\Pi_{\\mbox{Col2,Col3}}(\\mbox{camisas})\\times\\Pi_{\\mbox{Col2,Col3}}(\\mbox{pantalones})$$\n",
    "\n",
    "\n",
    "**Tabla $\\Pi_{\\mbox{Col2,Col3}}(\\mbox{camisas})\\times\\Pi_{\\mbox{Col2,Col3}}(\\mbox{pantalones})$**\n",
    "\n",
    "|camisa|Precio|pantalon|Precio|\n",
    "|--|--|--|--|\n",
    "|lino blanco|210|mezclilla azul|410|\n",
    "|lino blanco|210|mezclilla negra|370|\n",
    "|algodon naranja|210|mezclilla azul|410|\n",
    "|algodon naranja|210|mezclilla negra|370|\n",
    "|seda negra|210|mezclilla azul|410|\n",
    "|seda negra|210|mezclilla negra|370|"
   ]
  },
  {
   "cell_type": "markdown",
   "id": "7e8df767-3220-468c-9b93-422b88379b55",
   "metadata": {},
   "source": [
    "<font color = 'Black'>\n",
    "<font size = 3>\n",
    "\n",
    "Supongamos ahora que queremos saber el precio total de cada combinación. Se nos presenta el siguiente problema: en la tabla anterior tenemos dos campos con el mismo nombre (Precio).\n",
    "\n",
    "A este tipo de problemas se les conoce como ambigüedades. Para evitarlos, siempre que se hace un producto cartesiano de tablas se sugiere nombrar cada columna en formato *nombre_de_la_tabla.nombre_de_la_columna*. \n",
    "\n",
    "En particular,\n",
    "\n",
    "```sql\n",
    "create table camisas_pantalones as\n",
    "select camisas.camisa, \n",
    "       camisas.precio as Precio_camisa, \n",
    "       pantalones.pantalon, \n",
    "       pantalones.precio as Precio_pantalon, \n",
    "       camisas.precio + pantalones.precio as Precio_final\n",
    "from camisas, pantalones;\n",
    "```\n",
    "\n",
    "significa, literalmente, crear una tabla llamada *camisas_pantalones* cuyas columnas serán:\n",
    "\n",
    "* la columna camisa de la tabla camisas (camisas.camisa).\n",
    "* la columna precio de la tabla camisas (camisas.precio), la cual se llamará *Precio_camisa*.\n",
    "* la columna pantalon de la tabla pantalones (pantalones.pantalon).\n",
    "* la columna precio de la tabla pantalones (pantalones.precio), la cual se llamará *Precio_pantalon*.\n",
    "* Una nueva columna que contendrá la suma respectiva de los precios de camisas con pantalones, la cual se llamará *Precio_final*.\n",
    "\n",
    "En la siguiente imagen se puede ver la manera en cómo se implementa en pgAdmin la solución del problema anterior:\n",
    "\n",
    "<img src = \"Img/sesion_11_6.png\">\n",
    "\n",
    "---"
   ]
  },
  {
   "cell_type": "markdown",
   "id": "b171f471-4b0e-4821-be8e-657004f7ce74",
   "metadata": {},
   "source": [
    "<font color = 'DodgerBlue'>\n",
    "<font size = 5>\n",
    "    \n",
    "**EXTRA: La función concatenado: concat**"
   ]
  },
  {
   "cell_type": "markdown",
   "id": "d0513aff-6169-4eef-94fa-f917e841a61a",
   "metadata": {},
   "source": [
    "<font color = 'Black'>\n",
    "<font size = 3>\n",
    "\n",
    "En la tabla anterior ya tenemos todas las combinaciones disponibles junto con el precio de cada una de ellas. Nos gustaría sin embargo presentar la información de una manera más estilizada.\n",
    "\n",
    "``CONCAT`` es una función que concatena datos de tipo cadena dando como resultado una única cadena:\n",
    "\n",
    "```sql\n",
    "select concat('Camisa de ', camisas_pantalones.camisa,\n",
    "              ' con pantalón de ', camisas_pantalones.pantalon) \n",
    "                  as combinacion, \n",
    "       Precio_final\n",
    "from camisas_pantalones \n",
    "order by Precio_final desc\n",
    "```\n",
    "\n",
    "La instrucción anterior nos da como resultado la siguiente tabla:\n",
    "\n",
    "|Combinacion|Precio_final|\n",
    "|--|--|\n",
    "|Camisa de algodón naranja con pantalón de mezclilla negra|1020|\n",
    "|Camisa de seda negra con pantalón de mezclilla negra|990|\n",
    "|Camisa de lino blanco con pantalón de mezclilla negra|940|\n",
    "|Camisa de algodón naranja con pantalón de mezclilla azul|760|\n",
    "|Camisa de seda negra con pantalón de mezclilla azul|730|\n",
    "|Camisa de lino blanco con pantalón de mezclilla azul|680|\n",
    "\n",
    "---"
   ]
  },
  {
   "cell_type": "markdown",
   "id": "90e68727-199c-433c-8acc-8a6a18b15c02",
   "metadata": {},
   "source": [
    "<font color = 'DodgerBlue'>\n",
    "<font size = 5>\n",
    "    \n",
    "**Joins**"
   ]
  },
  {
   "cell_type": "markdown",
   "id": "ced10cf9-7e3e-4878-9c04-683356384a6a",
   "metadata": {},
   "source": [
    "<font color = 'Black'>\n",
    "<font size = 3>\n",
    "\n",
    "Join se usa para combinar columnas de una o más tablas en función de los valores de las columnas comunes entre tablas relacionadas. Las columnas comunes suelen ser las columnas de clave principal de la primera tabla y las columnas de clave externa de la segunda tabla. Sin embargo, esto no tiene por qué ser así. Llamamos columna join a las columnas que usaremos para hacer la operación join.\n",
    "\n",
    "En esta sección estudiaremos cinco tipos de Join.\n",
    "\n",
    "Consideremos las siguientes tablas:\n",
    "\n",
    "**Tabla A**\n",
    "\n",
    "|ID_A|Fruta|\n",
    "|--|--|\n",
    "|1|Manzana|\n",
    "|2|Naranja|\n",
    "|3|Plátano|\n",
    "|4|Pepino|\n",
    "\n",
    "**Tabla B**\n",
    "\n",
    "|ID_B|Fruta|\n",
    "|--|--|\n",
    "|1|Naranja|\n",
    "|2|Manzana|\n",
    "|3|Sandia|\n",
    "|4|Pera|\n",
    "\n",
    "---"
   ]
  },
  {
   "cell_type": "markdown",
   "id": "6af482d7-9c4f-4f94-ac96-2b2fad15dc35",
   "metadata": {},
   "source": [
    "<font color = 'DodgerBlue'>\n",
    "<font size = 5>\n",
    "    \n",
    "**Inner Join**"
   ]
  },
  {
   "cell_type": "markdown",
   "id": "be56ed6d-3e16-4119-9934-3bb05e927705",
   "metadata": {},
   "source": [
    "<font color = 'Black'>\n",
    "<font size = 3>\n",
    "\n",
    "El inner join es un join *de intersección*. Si $S$ y $T$ son tablas, su inner join, toma cada registro en $S$ y compara su columna join con la columna join de $T$. Cada vez que halle una coincidencia, se crea un registro formado por los dos registros respectivos donde halló la coincidencia.\n",
    "\n",
    "Por ejemplo, el inner join de las tablas A y B anteriores, usando columna join de A a Fruta y columna join de B a Fruta de B, recorrerá cada fila de A buscando coincidir Fruta de A con Fruta de B para formar una nueva tabla cuyos renglones son la combinación de los renglones de A con los renglones de B donde hay coincidencia, dando como resultado la tabla\n",
    "\n",
    "**A inner Join B por fruta de A y fruta de B**\n",
    "\n",
    "|ID_A|Fruta|ID_B|Fruta|\n",
    "|--|--|--|--|\n",
    "|1|Manzana|2|Manzana|\n",
    "|2|Naranja|1|Naranja|\n",
    "\n",
    "El diagrama de Venn para esta situación es el siguiente:\n",
    "\n",
    "<img src = \"Img/inner_join.png\" width=\"300\">\n",
    "\n",
    "---"
   ]
  },
  {
   "cell_type": "markdown",
   "id": "f92c6e1f-d45a-41e8-b5e7-9242bb322400",
   "metadata": {},
   "source": [
    "<font color = 'DodgerBlue'>\n",
    "<font size = 5>\n",
    "    \n",
    "**Left Outer Join**"
   ]
  },
  {
   "cell_type": "markdown",
   "id": "095b0bff-5d68-4890-8f07-7e0f8a080db7",
   "metadata": {},
   "source": [
    "<font color = 'Black'>\n",
    "<font size = 3>\n",
    "\n",
    "La unión izquierda (*left join*) comienza a seleccionar datos de la tabla izquierda. Compara los valores en la columna de Join de la tabla izquierda con los valores en la columna join de la tabla derecha. Si estos valores son iguales, left join crea una nueva fila que contiene columnas de ambas tablas y agrega esta nueva fila al conjunto de resultados. En caso de que los valores no sean iguales, left join también crea una nueva fila que contiene columnas de ambas tablas y la agrega al conjunto de resultados llenando las columnas correspondientes a la tabla derecha con nulo.\n",
    "\n",
    "Por ejemplo, si A es la tabla izquierda y B es la derecha, entonces el left join de A con B usando como columnas join las frutas nos da como resultado\n",
    "\n",
    "|Id_A|Fruta|Id_B|Fruta|\n",
    "|--|--|--|--|\n",
    "|1|Manzana|2|Manzana|\n",
    "|2|Naranja|1|Naranja|\n",
    "|3|Plátano|Null|Null|\n",
    "|4|Pepino|Null|Null|\n",
    "\n",
    "El diagrama de Venn correspondiente al left join como lo hemos descrito es\n",
    "\n",
    "<img src = \"Img/left_join_null.png\" width=\"300\">\n",
    "\n",
    "En este caso, se trae toda la información."
   ]
  },
  {
   "cell_type": "markdown",
   "id": "06e3a7b9-8c94-4434-a46d-7f276c884031",
   "metadata": {},
   "source": [
    "<font color = 'Black'>\n",
    "<font size = 3>\n",
    "\n",
    "Sin embargo, si nos interesa quedarno exclusivamente con aquellos registros que no encontraron correspondencia en la tabla derecha, podemos añadir un filtro sobre los valores nulos, lo cual nos da como resultado\n",
    "\n",
    "|Id_A|Fruta|Id_B|Fruta|\n",
    "|--|--|--|--|\n",
    "|3|Plátano|Null|Null|\n",
    "|4|Pepino|Null|Null|\n",
    "\n",
    "Este resultado se presenta de la siguiente manera:\n",
    "\n",
    "<img src=\"Img/left_join_only.png\" width=\"300\">\n",
    "\n",
    "Es decir, cuando yo quiero aquellos valores que no tuvieron coincidencia en la tabla derecha, que serían plátano y pepino.\n",
    "\n",
    "Este caso es como el de una resta, elementos que están en un conjunto pero no están en el otro. En SQL se puede usar un 'WHERE'.\n",
    "\n",
    "---"
   ]
  },
  {
   "cell_type": "markdown",
   "id": "1b8a2c85-1641-40d2-bcbb-fd95e92aa048",
   "metadata": {},
   "source": [
    "<font color = 'DodgerBlue'>\n",
    "<font size = 5>\n",
    "    \n",
    "**Right Outer join**"
   ]
  },
  {
   "cell_type": "markdown",
   "id": "20252c7c-65db-4167-b972-1741b92b676c",
   "metadata": {},
   "source": [
    "<font color = 'Black'>\n",
    "<font size = 3>\n",
    "\n",
    "El Right Outer join es la versión \"derecha\" del left outer join. Funciona de la misma manera pero de derecha a izquierda.\n",
    "\n",
    "Por ejemplo, si A es la tabla izquierda y B es la derecha, entonces el left join de A con B usando como columnas join las frutas nos da como resultado\n",
    "\n",
    "|Id_A|Fruta|Id_B|Fruta|\n",
    "|--|--|--|--|\n",
    "|2|Naranja|1|Naranja|\n",
    "|1|Manzana|2|Manzana|\n",
    "|Null|Null|3|Sandía|\n",
    "|Null|Null|4|Pera|\n",
    "\n",
    "El diagrama de Venn correspondiente a este join es\n",
    "\n",
    "<img src = \"Img/right_join_null.png\" width=\"300\">"
   ]
  },
  {
   "cell_type": "markdown",
   "id": "e873ab96-ff6a-43df-9ce5-01f207968543",
   "metadata": {},
   "source": [
    "<font color = 'Black'>\n",
    "<font size = 3>\n",
    "\n",
    "Al igual que en el caso de left join, si únicamente nos interesan aquellos registros donde no se halló coincidencia, basta con hacer un filtro sobre los null para obtener la siguiente tabla\n",
    "\n",
    "|Id_A|Fruta|Id_B|Fruta|\n",
    "|--|--|--|--|\n",
    "|Null|Null|3|Sandía|\n",
    "|Null|Null|4|Pera|\n",
    "\n",
    "Es decir\n",
    "\n",
    "<img src = \"Img/right_join_only.png\" width=\"300\">\n",
    "\n",
    "---"
   ]
  },
  {
   "cell_type": "markdown",
   "id": "95e15c93-22ff-425d-82c0-a32db4091bb2",
   "metadata": {},
   "source": [
    "<font color = 'DodgerBlue'>\n",
    "<font size = 5>\n",
    "    \n",
    "**Full join**"
   ]
  },
  {
   "cell_type": "markdown",
   "id": "0ada5e8f-0c2d-485a-86b4-fe0651cffa8c",
   "metadata": {},
   "source": [
    "<font color = 'Black'>\n",
    "<font size = 3>\n",
    "\n",
    "La combinación externa completa (full outer join) devuelve un conjunto de resultados que contiene todas las filas de las tablas izquierda y derecha, con las filas coincidentes de ambos lados si están disponibles. En caso de que no haya coincidencia, las columnas de la tabla se rellenarán con NULL.\n",
    "\n",
    "Por ejemplo, si A es la tabla izquierda y B es la derecha, entonces el left join de A con B usando como columnas join las frutas nos da como resultado\n",
    "\n",
    "|Id_A|Fruta|Id_B|Fruta|\n",
    "|--|--|--|--|\n",
    "|1|Manzana|2|Manzana|\n",
    "|2|Naranja|1|Naranja|\n",
    "|3|Plátano|Null|Null|\n",
    "|4|Pepino|Null|Null|\n",
    "|Null|Null|3|Sandía|\n",
    "|Null|Null|4|Pera|\n",
    "\n",
    "El diagrama de Venn correspondientes es \n",
    "\n",
    "<img src = \"Img/full_join_null.png\" width=\"300\">"
   ]
  },
  {
   "cell_type": "markdown",
   "id": "f68ff3f0-30a6-4154-801f-f2a1bf539483",
   "metadata": {},
   "source": [
    "<font color = 'Black'>\n",
    "<font size = 3>\n",
    "\n",
    "Nuevamente, si solo nos interesan los registros que no encontraron coincidencias, hacemos un filtro sobre los nulos (tanto de A como de B). El resultado en el ejemplo es\n",
    "\n",
    "|Id_A|Fruta|Id_B|Fruta|\n",
    "|--|--|--|--|\n",
    "|3|Plátano|Null|Null|\n",
    "|4|Pepino|Null|Null|\n",
    "|Null|Null|3|Sandía|\n",
    "|Null|Null|4|Pera|\n",
    "\n",
    "<img src = \"Img/full_join_only.png\" width=\"300\">\n",
    "\n",
    "---"
   ]
  },
  {
   "cell_type": "markdown",
   "id": "195232e8-7d7b-46e9-822c-d87e970f5d14",
   "metadata": {},
   "source": [
    "<font color = 'Black'>\n",
    "<font size = 3>\n",
    "\n",
    "Concluimos esta sección con un breve resumen de los join, que hemos mostrado, que además muestra la sintaxis para Postgresql.\n",
    "\n",
    "<img src = \"Img/joins.png\" width=\"700\">"
   ]
  }
 ],
 "metadata": {
  "kernelspec": {
   "display_name": "Python 3 (ipykernel)",
   "language": "python",
   "name": "python3"
  },
  "language_info": {
   "codemirror_mode": {
    "name": "ipython",
    "version": 3
   },
   "file_extension": ".py",
   "mimetype": "text/x-python",
   "name": "python",
   "nbconvert_exporter": "python",
   "pygments_lexer": "ipython3",
   "version": "3.10.16"
  }
 },
 "nbformat": 4,
 "nbformat_minor": 5
}
