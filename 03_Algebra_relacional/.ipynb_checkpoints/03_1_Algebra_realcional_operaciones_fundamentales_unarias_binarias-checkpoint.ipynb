{
 "cells": [
  {
   "cell_type": "markdown",
   "id": "bc764c53-1f78-4c0d-b25c-765250cecfe0",
   "metadata": {},
   "source": [
    "<font color='IndianRed'>\n",
    "<font size=9> \n",
    "\n",
    "**Bases de Datos con PostgreSQL**"
   ]
  },
  {
   "cell_type": "markdown",
   "id": "b397f794-8f48-4054-97d6-72fe41b9e07e",
   "metadata": {},
   "source": [
    "<font color = 'DodgerBlue'>\n",
    "<font size = 6>\n",
    "    \n",
    "**Álgebra relacional**"
   ]
  },
  {
   "cell_type": "markdown",
   "id": "0c14df51-1cca-49f4-9c51-563f96c68b47",
   "metadata": {},
   "source": [
    "<font color = 'Black'>\n",
    "<font size = 3>\n",
    "\n",
    "El **Álgebra relacional** es un lenguaje de consulta procesal ampliamente utilizado. Recopila instancias de relaciones como entrada y da ocurrencias de relaciones como salida. Utiliza varias operaciones para realizar esta acción. Las operaciones de consulta de **álgebra relacional** de **SQL** se realizan de forma recursiva en una relación. El resultado de estas operaciones es una nueva **relación**, que podría formarse a partir de una o más relaciones de entrada.\n",
    "\n",
    "> ⚠️ Def. Una **relación** es una tabla.\n",
    "\n",
    "> ⚠️ En palabras simples: el álgebra relacional es el estudio de las operaciones que se pueden aplicar a tablas, **pensando a las tablas como conjuntos**.\n",
    "\n",
    "Existen dos tipos de operaciones fundamentales en esta álgebra:\n",
    "\n",
    "|Unarias|Binarias|\n",
    "|--|--|\n",
    "|Selección|Unión|\n",
    "|Proyección|Intersección|\n",
    "|Renombramiento|Diferencia|\n",
    "||Pegado|\n",
    "||Partida|\n",
    "\n",
    "---"
   ]
  },
  {
   "cell_type": "markdown",
   "id": "ce5435b9-8e74-43c6-8726-52cd5fab2e53",
   "metadata": {},
   "source": [
    "<font color = 'DodgerBlue'>\n",
    "<font size = 6>\n",
    "    \n",
    "**Operaciones unarias**"
   ]
  },
  {
   "cell_type": "markdown",
   "id": "00a9614e-a2e1-42ce-8a14-dbf699c58e89",
   "metadata": {},
   "source": [
    "<font color = 'Black'>\n",
    "<font size = 3>\n",
    "\n",
    "Se trata de operaciones que se aplican a solo una **relación** (una sola tabla). Consideremos la siguiente tabla:\n",
    "\n",
    "**Tabla Persona**\n",
    "\n",
    "| Llave primaria Persona | Entidad | UPM | Vivienda | Hogar | Renglón |\n",
    "|------------------------|---------|-----|----------|-------|---------|\n",
    "|02_02_01_02_01|02|02|01|02|01|\n",
    "|02_01_03_01_01|02|01|03|01|01|\n",
    "|01_18_02_01_03|01|18|02|01|03|\n",
    "|32_12_03_05_04|32|12|03|05|04|\n",
    "|09_15_04_01_02|09|15|04|01|02|\n",
    "\n",
    "---"
   ]
  },
  {
   "cell_type": "markdown",
   "id": "b2aeebde-2f66-4aea-9f64-a693a1dd64a6",
   "metadata": {},
   "source": [
    "<font color = 'DodgerBlue'>\n",
    "<font size = 5>\n",
    "\n",
    "**Selección**: $\\sigma$"
   ]
  },
  {
   "cell_type": "markdown",
   "id": "bfcc2a52-dc85-4ade-a601-c89af74b179b",
   "metadata": {},
   "source": [
    "<font color = 'Black'>\n",
    "<font size = 3>\n",
    "\n",
    "Esta operación nos permite seleccionar registros. \n",
    "\n",
    "Su notación es la siguiente: $\\sigma_{p}(r)$ donde $p$ es el predicado (una proposición lógica) y  $r$ es la relación (nombre de la tabla).\n",
    "\n",
    "---"
   ]
  },
  {
   "cell_type": "markdown",
   "id": "cb4b4207-66ab-4968-94a7-a9ca22f26d0c",
   "metadata": {},
   "source": [
    "<font color = 'LightSeaGreen'>\n",
    "<font size = 3>\n",
    "\n",
    "**Ejemplo 1.**"
   ]
  },
  {
   "cell_type": "markdown",
   "id": "672ea5dd-0a40-4c02-9c00-a656ba265a81",
   "metadata": {},
   "source": [
    "<font color = 'LightSeaGreen'>\n",
    "<font size = 3>\n",
    "\n",
    "La operación \"selecciona de la Tabla Personas aquellos registros cuya entidad es Baja California\" se escribe como $$\\sigma_\\mbox{Entidad = Baja  California}(\\mbox{Personas})$$\n",
    "\n",
    "En la siguiente imagen se puede ver la manera en cómo se implementa en pgAdmin la proposición anterior y la del ejemplo 2:\n",
    "\n",
    "<img src = \"Img/sesion_11_1.png\">\n",
    "\n",
    "---"
   ]
  },
  {
   "cell_type": "markdown",
   "id": "5e80c486-46eb-4cf9-acf8-53c4559b033e",
   "metadata": {},
   "source": [
    "<font color = 'LightSeaGreen'>\n",
    "<font size = 3>\n",
    "\n",
    "**Ejemplo 2.**"
   ]
  },
  {
   "cell_type": "markdown",
   "id": "758a76b7-ad3c-4b85-bdd5-c2ba6cba932f",
   "metadata": {},
   "source": [
    "<font color = 'LightSeaGreen'>\n",
    "<font size = 3>\n",
    "\n",
    "La operación \"selecciona de la Tabla Personas aquellos registros cuya entidad es Baja California o Aguascalientes\" se escribe como $$\\sigma_{\\mbox{Entidad = Baja  California }\\vee\\mbox{ Entidad = Aguascalientes}}(\\mbox{Personas})$$\n",
    "\n",
    "En la siguiente imagen se puede ver la manera en cómo se implementa en pgAdmin la proposición anterior y la del ejemplo 1:\n",
    "\n",
    "<img src = \"Img/sesion_11_1.png\">\n",
    "\n",
    "---"
   ]
  },
  {
   "cell_type": "markdown",
   "id": "be1cb857-3d16-4849-9c87-3320607ffa18",
   "metadata": {},
   "source": [
    "<font color = 'DodgerBlue'>\n",
    "<font size = 5>\n",
    "    \n",
    "**Proyecciones: $\\Pi$**"
   ]
  },
  {
   "cell_type": "markdown",
   "id": "a342d658-9051-432b-80c6-008939e731a5",
   "metadata": {},
   "source": [
    "<font color = 'Black'>\n",
    "<font size = 3>\n",
    "\n",
    "Supongamos que únicamente nos interesa conocer ciertos campos de una tabla. Para ello tenemos se define la operación **proyección**: $\\Pi_{A}(r)$ donde $r$ es la **relación** (nombre de la tabla) y $A$ es un **subconjunto** de los nombres de los campos de la tabla $r$.\n",
    "\n",
    "Al ser $\\Pi_{A}(r)$ una nueva **relación** (recordar que en este contexto la palabra relación es sinónimo de tabla), y las **relaciones** las pensamos como **conjuntos**, cada renglón es un elemento. Entonces, se quitan las repeticiones de la tabla resultante de $\\Pi_{A}(r)$ como tal.\n",
    "\n",
    "> ⚠️ En palabras simples: la **proyección** es simplemente seleccionar algunas columnas pero se quitan las repeticiones de los elementos.\n",
    "\n",
    "---"
   ]
  },
  {
   "cell_type": "markdown",
   "id": "4bef4a56-70b9-4065-9752-e6a5d152e833",
   "metadata": {},
   "source": [
    "<font color = 'LightSeaGreen'>\n",
    "<font size = 3>\n",
    "\n",
    "**Ejemplo 3.**"
   ]
  },
  {
   "cell_type": "markdown",
   "id": "5abe5147-0ab7-4696-a19d-2ece3b17b70c",
   "metadata": {},
   "source": [
    "<font color = 'LightSeaGreen'>\n",
    "<font size = 3>\n",
    "\n",
    "La operación \"Hallar las entidades de la Tabla Personas\" se escribe como $$\\Pi_{\\mbox{Entidad}}(\\mbox{Personas})$$\n",
    "\n",
    "En la siguiente imagen se puede ver la manera en cómo se implementa en pgAdmin la proposición anterior:\n",
    "\n",
    "<img src = \"Img/sesion_11_2.png\">\n",
    "\n",
    "---"
   ]
  },
  {
   "cell_type": "markdown",
   "id": "559be7df-cfcb-4b15-bd5b-586b00f82923",
   "metadata": {},
   "source": [
    "<font color = 'LightSeaGreen'>\n",
    "<font size = 3>\n",
    "\n",
    "**Ejemplo 4.**"
   ]
  },
  {
   "cell_type": "markdown",
   "id": "801c70b3-01bb-4f7e-b4b3-f052fcfe915f",
   "metadata": {},
   "source": [
    "<font color = 'LightSeaGreen'>\n",
    "<font size = 3>\n",
    "\n",
    "La operación \"Hallar las entidades y las UPM de la Tabla Personas\" se escribe como $$\\Pi_{\\mbox{Entidad, UPM}}(\\mbox{Personas})$$\n",
    "\n",
    "En la siguiente imagen se puede ver la manera en cómo se implementa en pgAdmin la proposición anterior:\n",
    "\n",
    "<img src = \"Img/sesion_11_3.png\">\n",
    "\n",
    "---"
   ]
  },
  {
   "cell_type": "markdown",
   "id": "af4ae546-9611-4b86-9a1a-469fe277d662",
   "metadata": {},
   "source": [
    "<font color = 'DodgerBlue'>\n",
    "<font size = 5>\n",
    "    \n",
    "**Renombrar: $\\rho$**"
   ]
  },
  {
   "cell_type": "markdown",
   "id": "28a7f502-225a-42c5-82df-43647d8405c9",
   "metadata": {},
   "source": [
    "<font color = 'Black'>\n",
    "<font size = 3>\n",
    "\n",
    "La operación **renombrar** sirve para cambiar el nombre de una columna cualquiera de la tabla: $\\rho_r(a|b)$ significa \"en la tabla $r$, cambia el nombre del campo $a$ por $b$\".\n",
    "\n",
    "Es como nuestro \"AS\".\n",
    "\n",
    "En la siguiente imagen se puede ver la manera en cómo se implementa en pgAdmin la proposición anterior:\n",
    "\n",
    "<img src = \"Img/sesion_11_4.png\">\n",
    "\n",
    "---"
   ]
  },
  {
   "cell_type": "markdown",
   "id": "39938204-cbcb-4cdf-a8c6-76cfbbf0bfc2",
   "metadata": {},
   "source": [
    "<font color = 'DodgerBlue'>\n",
    "<font size = 5>\n",
    "    \n",
    "**Composiciones**"
   ]
  },
  {
   "cell_type": "markdown",
   "id": "edcdb1db-f4e2-4ade-9a36-339a79d23fac",
   "metadata": {},
   "source": [
    "<font color = 'Black'>\n",
    "<font size = 3>\n",
    "\n",
    "Como el resultado de aplicar una operación unaria a una **relación** es otra **relación**, tiene sentido hacer la **composición** de estas operaciones.\n",
    "\n",
    "---"
   ]
  },
  {
   "cell_type": "markdown",
   "id": "6422f7e9-51cf-46e3-8ca0-fccbc6192428",
   "metadata": {},
   "source": [
    "<font color = 'LightSeaGreen'>\n",
    "<font size = 3>\n",
    "\n",
    "**Ejemplo.**"
   ]
  },
  {
   "cell_type": "markdown",
   "id": "36e18362-6f83-45f3-8c66-5a347e90885a",
   "metadata": {},
   "source": [
    "<font color = 'LightSeaGreen'>\n",
    "<font size = 3>\n",
    "\n",
    "\"Hallar las UPM de Baja California que están en la Tabla Personas\":\n",
    "\n",
    "1) Hallamos, de la tabla de personas, aquella tabla formada por los elementos de Baja California: $$\\sigma_{\\mbox{Entidad = Baja California}}(\\mbox{Personas})$$\n",
    "\n",
    "2) De la tabla del resultado anterior, hallamos las UPM: $$\\Pi_{\\mbox{UPM}}(\\sigma_{\\mbox{Entidad = Baja California}}(\\mbox{Personas})).$$\n",
    "\n",
    "En la siguiente imagen se puede ver la manera en cómo se implementa en pgAdmin la proposición anterior:\n",
    "\n",
    "<img src = \"Img/sesion_11_5.png\">\n",
    "\n",
    "---"
   ]
  },
  {
   "cell_type": "markdown",
   "id": "e0e3796c-3855-4f2d-95b8-cf6d9cb80abf",
   "metadata": {},
   "source": [
    "<font color = 'DodgerBlue'>\n",
    "<font size = 6>\n",
    "    \n",
    "**Operaciones binarias**"
   ]
  },
  {
   "cell_type": "markdown",
   "id": "b0fe94d1-d6d8-4ca0-9699-8277fd458364",
   "metadata": {},
   "source": [
    "<font color = 'Black'>\n",
    "<font size = 3>\n",
    "\n",
    "Se trata de operaciones que se aplican a dos tablas (pudiendo estas ser iguales). Consideremos las dos tablas siguientes:\n",
    "\n",
    "**Tabla Ejército**\n",
    " \n",
    "|ID Persona|Entidad|¿Confía en el Ejército?|\n",
    "|--|--|--|\n",
    "|1|01|Sí|\n",
    "|2|01|Sí|\n",
    "|3|02|No|\n",
    "|4|02|Sí|\n",
    "|5|32|No|\n",
    "|6|09|Sí|\n",
    "\n",
    "**Tabla Marina**\n",
    "\n",
    "|ID Persona|Entidad|¿Confía en la Marina?|\n",
    "|--|--|--|\n",
    "|1|01|Sí|\n",
    "|2|01|Sí|\n",
    "|3|02|No|\n",
    "|4|02|Sí|\n",
    "|5|32|Sí|\n",
    "|6|09|No|\n"
   ]
  },
  {
   "cell_type": "markdown",
   "id": "0955d146-73a5-4a35-a48b-d60396e80c39",
   "metadata": {},
   "source": [
    "<font color = 'DodgerBlue'>\n",
    "<font size = 5>\n",
    "    \n",
    "**Unión: $\\bigcup$**"
   ]
  },
  {
   "cell_type": "markdown",
   "id": "95244218-dab6-4a4c-a394-77a8d48d8afd",
   "metadata": {},
   "source": [
    "<font color = 'Black'>\n",
    "<font size = 3>\n",
    "\n",
    "La operación unión considera la tabla resultante de unir dos tablas en el sentido de conjuntos. \n",
    "\n",
    "> ⚠️ **Observación Importante**.\n",
    "> Si $S$ y $T$ son dos tablas, entonces para que tenga sentido evaluar la expresión $S\\bigcup T$ se deben cumplir las siguientes dos condiciones:\n",
    "> 1) $S$ y $T$ deben tener el mismo número de campos y\n",
    "> 2) Los campos de $S$ y $T$ deben ser **compatibles**.\n",
    "\n",
    "---"
   ]
  },
  {
   "cell_type": "markdown",
   "id": "b9dbaef8-12bd-4a23-92bf-fa7ef228068d",
   "metadata": {},
   "source": [
    "<font color = 'LightSeaGreen'>\n",
    "<font size = 3>\n",
    "\n",
    "**Ejemplo 5.**"
   ]
  },
  {
   "cell_type": "markdown",
   "id": "3551fc51-0479-44ab-a84b-f0ab1149a0b6",
   "metadata": {},
   "source": [
    "<font color = 'LightSeaGreen'>\n",
    "<font size = 3>\n",
    "\n",
    "*Calcular cuántas personas confían en las instituciones armadas.* \n",
    "\n",
    "Buscamos entonces el número de renglones de la tabla resultante de unir a quienes confían en el Ejército con quienes confían en la marina y eliminar duplicaciones. Esto significa que queremos hallar el número de registros de $$\\sigma_{\\mbox{Col3 = Sí}}(\\mbox{Ejército})\\bigcup\\sigma_{\\mbox{Col3 = Sí}}(\\mbox{Marina}).$$\n",
    "\n",
    "Esto nos da como resultado \n",
    "\n",
    "|ID Persona|Entidad|Confianza en alguna de las Instituciones armadas|\n",
    "|--|--|--|\n",
    "|1|01|Sí|\n",
    "|2|01|Sí|\n",
    "|4|02|Sí|\n",
    "|5|32|Sí|\n",
    "|6|09|Sí|\n",
    "\n",
    "---"
   ]
  },
  {
   "cell_type": "markdown",
   "id": "8f0f6f74-0a48-4a3b-8ab7-f2f347e90a58",
   "metadata": {},
   "source": [
    "<font color = 'DodgerBlue'>\n",
    "<font size = 5>\n",
    "    \n",
    "**Intersección: $\\bigcap$**"
   ]
  },
  {
   "cell_type": "markdown",
   "id": "05fdbc5b-54c6-4ed9-b09c-b01ace4faaff",
   "metadata": {},
   "source": [
    "<font color = 'Black'>\n",
    "<font size = 3>\n",
    "\n",
    "La operación intersección de dos tablas arroja como resultado la tabla formada por los registros que están en ambas. Para realizar una instersección, los intersecandos deben cumplir las mismas condiciones que para la unión.\n",
    "\n",
    "---"
   ]
  },
  {
   "cell_type": "markdown",
   "id": "51faba49-ed35-437c-b2a1-14a43e73b21d",
   "metadata": {},
   "source": [
    "<font color = 'LightSeaGreen'>\n",
    "<font size = 3>\n",
    "\n",
    "**Ejemplo 6.**"
   ]
  },
  {
   "cell_type": "markdown",
   "id": "0a6be2a0-ca1b-45f4-972a-aebb8f0ceb81",
   "metadata": {},
   "source": [
    "<font color = 'LightSeaGreen'>\n",
    "<font size = 3>\n",
    "\n",
    "*Calcular cuántas personas confían tanto en el Ejército como en la Marina.* Buscamos entonces el número de renglones de la tabla resultante de intersectar a quienes confían en el Ejército con quienes confían en la marina y eliminar duplicaciones. Esto significa que queremos hallar el número de registros de $$\\sigma_{\\mbox{Col3 = Sí}}(\\mbox{Ejército})\\bigcap\\sigma_{\\mbox{Col3 = Sí}}(\\mbox{Marina}).$$\n",
    "\n",
    "- Respuesta: $\\{1, 2, 4\\}$.\n",
    "\n",
    "---"
   ]
  },
  {
   "cell_type": "markdown",
   "id": "8294fb9c-34e7-4242-abb1-710a3cc48b81",
   "metadata": {},
   "source": [
    "<font color = 'DodgerBlue'>\n",
    "<font size = 5>\n",
    "    \n",
    "**Diferencia de tablas: $-$** "
   ]
  },
  {
   "cell_type": "markdown",
   "id": "a6cfdf7e-43ee-4873-9b12-9a45424bdb3d",
   "metadata": {},
   "source": [
    "<font color = 'Black'>\n",
    "<font size = 3>\n",
    "\n",
    "Si $S$ y $T$ son dos tablas, la tabla $S-T$ representa aquella formada por los registros que están en $S$ pero que no están en $T$. \n",
    "\n",
    "Aquí, puede ser útil recordar que si $A$ y $B$ son conjuntos, entonces $A-B=A\\bigcap B^c$, donde $B^c$ es el complemento de $B$.\n",
    "\n",
    "---"
   ]
  },
  {
   "cell_type": "markdown",
   "id": "4136c7a4-32ab-467f-a2d9-73e159ab0a34",
   "metadata": {},
   "source": [
    "<font color = 'LightSeaGreen'>\n",
    "<font size = 3>\n",
    "\n",
    "**Ejemplo 7.**"
   ]
  },
  {
   "cell_type": "markdown",
   "id": "dd631a94-cbd6-4a29-a762-d14aab8af0a4",
   "metadata": {},
   "source": [
    "<font color = 'LightSeaGreen'>\n",
    "<font size = 3>\n",
    "\n",
    "*Calcular cuántas personas confían únicamente en la Marina.* Buscamos entonces el número de renglones de la tabla resultante de hallar a quienes confían en la Marina, quitar de ella a quienes también confían en el Ejército y eliminar duplicaciones. Esto significa que queremos hallar el número de registros de $$\\sigma_{\\mbox{Col3 = Sí}}(\\mbox{Marina})-\\sigma_{\\mbox{Col3 = Sí}}(\\mbox{Ejército})=\\sigma_{\\mbox{Col3 = Sí}}(\\mbox{Marina})\\bigcap\\sigma_{\\mbox{Col3 != Sí}}(\\mbox{Ejército})$$\n",
    "\n",
    "Esto nos da como resultado\n",
    "\n",
    "|ID Persona|Entidad|Solo confía en Ejército|\n",
    "|--|--|--|\n",
    "|5|32|Sí|\n",
    "\n",
    "---"
   ]
  },
  {
   "cell_type": "markdown",
   "id": "f89d38d6-0f10-4aef-a205-3a72fe03a6f7",
   "metadata": {},
   "source": [
    "<font color = 'Brown'>\n",
    "<font size = 4>\n",
    "    \n",
    "**Notas**"
   ]
  },
  {
   "cell_type": "markdown",
   "id": "97eaa917-68a8-4ec6-aaa9-6f1c7ed380a5",
   "metadata": {},
   "source": [
    "<font color = 'DarkRed'>\n",
    "<font size = 3>\n",
    "\n",
    "- Una **llave primaria** se puede pensar como un reglón de identificación.\n",
    "- El **o** exclusivo es usando un **XOR**.\n",
    "- Las **operaciones unitarias** solamente reciben una tabla como entrada y te devuelven una tabla."
   ]
  }
 ],
 "metadata": {
  "kernelspec": {
   "display_name": "Python 3 (ipykernel)",
   "language": "python",
   "name": "python3"
  },
  "language_info": {
   "codemirror_mode": {
    "name": "ipython",
    "version": 3
   },
   "file_extension": ".py",
   "mimetype": "text/x-python",
   "name": "python",
   "nbconvert_exporter": "python",
   "pygments_lexer": "ipython3",
   "version": "3.10.16"
  }
 },
 "nbformat": 4,
 "nbformat_minor": 5
}
