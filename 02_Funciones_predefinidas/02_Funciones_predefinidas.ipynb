{
 "cells": [
  {
   "cell_type": "markdown",
   "id": "ecb5287b-dfcd-4ed1-a3f3-050d747eecd5",
   "metadata": {},
   "source": [
    "<font color='IndianRed'>\n",
    "<font size=9> \n",
    "\n",
    "**Curso Bases de Datos con PostgreSQL**"
   ]
  },
  {
   "cell_type": "markdown",
   "id": "a824d997-2a6e-47ea-beaa-12d5f3d38771",
   "metadata": {},
   "source": [
    "<font color = 'DodgerBlue'>\n",
    "<font size = 6>\n",
    "    \n",
    "**Funciones predefinidas**"
   ]
  },
  {
   "cell_type": "markdown",
   "id": "73f40d06-30af-43d9-9cb3-88b504abbaeb",
   "metadata": {},
   "source": [
    "<font color = 'Black'>\n",
    "<font size = 3>\n",
    "\n",
    "En **SQL**, como en cualquier otro lenguaje de programación, existen funciones predefinidas que nos ayudan con las consultas de manera rápida. Pensando que SQL es un lenguaje orientado a bases de datos y tablas, no es de extrañarse que sus propias funciones estén enfocadas en el cálculo de índices.\n",
    "\n",
    "---"
   ]
  },
  {
   "cell_type": "markdown",
   "id": "b381eb5c-4074-4e07-a54a-72fe13c1b231",
   "metadata": {},
   "source": [
    "<font color = 'DodgerBlue'>\n",
    "<font size = 5>\n",
    "    \n",
    "**Funciones CEILING y FLOOR**"
   ]
  },
  {
   "cell_type": "markdown",
   "id": "7df4df16-a1aa-49cf-bbb7-052834f9f7d1",
   "metadata": {},
   "source": [
    "<font color = 'Black'>\n",
    "<font size = 3>\n",
    "\n",
    "Sirven para calcular la función techo ($\\lceil x\\rceil$) y la función piso ($\\lfloor x\\rfloor$). Recordemos que la función piso, también conocida como *parte entera*, significa redondear a $x$ al entero más cercano desde abajo, y además $\\lceil x\\rceil=\\lfloor x\\rfloor+1$: ``select ceiling(VALOR)`` y ``select floor(VALOR)``.\n",
    "\n",
    "---"
   ]
  },
  {
   "cell_type": "markdown",
   "id": "8ba883c8-3875-4106-b564-86ebc8dfc833",
   "metadata": {},
   "source": [
    "<font color = 'DodgerBlue'>\n",
    "<font size = 5>\n",
    "    \n",
    "**Función RANDOM (número aleatorio)**"
   ]
  },
  {
   "cell_type": "markdown",
   "id": "1a34b219-11ab-425a-928f-257f86e1cb8c",
   "metadata": {},
   "source": [
    "<font color = 'Black'>\n",
    "<font size = 3>\n",
    "\n",
    "Para generar un valor aleatorio entre 0 y 1, tenemos la función rand.\n",
    "\n",
    "``select rand()``\n",
    "\n",
    "- Puede ser que te devuelva un número entero, pero la probabilidad que te de un número entero es 0. Es decir, que es sumamente difícil que te de un número entero (0 o 1).\n",
    "- Al tratarse de una distribución uniforme continia, la probabilidad de que te de un número en particular es cero."
   ]
  },
  {
   "cell_type": "markdown",
   "id": "313cb4b0-2de6-4d9e-a7ef-1b79a9530415",
   "metadata": {},
   "source": [
    "<font color = 'midnightblue'>\n",
    "<font size = 3>\n",
    "\n",
    "$\\sim U((0,1))$. Si $X$ es una **Variable Aleatoria uniforme continua**, entonces $P(X = a) = 0$ para cualquier $a$. Es decir, $\\sim U([0,1))$, pero al $0$ nunca lo va agarrar, entonces es lo mismo que tengamos $\\sim U((0,1))$.\n",
    "\n",
    "En probabilidad, cualquier función de distribución siempre se puede construir a partir de la **distribución uniforme continua**. Hay teoremas que te lo garantizan."
   ]
  },
  {
   "cell_type": "markdown",
   "id": "7764d7ca-68ae-4ce3-81cc-4920b5bbaed4",
   "metadata": {},
   "source": [
    "<font color = 'Black'>\n",
    "<font size = 3>\n",
    "\n",
    "**Teorema.** \n",
    "\n",
    "Si $X \\sim U(0,1)$ y $Y = \\lfloor m X + 1 \\rfloor$, donde $m \\in \\{1,2,3,\\cdots\\}$, entonces $Y \\sim U\\{1, 2, \\cdots, m\\}$\n",
    "\n",
    "Es decir, si $X$ es un número aleatorio entre 0 y 1, entonces $\\lfloor mX+1\\rfloor$ es un entero aleatorio del conjunto $\\{1,2,\\cdots,m\\}$. \n",
    "\n",
    "En **PostgreSQL**, puedes fijar una semilla para la generación de números aleatorios utilizando la función `setseed()`. Esta función establece la semilla para la generación de números aleatorios en el entorno de sesión actual. Aquí tienes un ejemplo de cómo hacerlo:\n",
    "\n",
    "`SELECT setseed(0.5); -- Fija la semilla en 0.5`\n",
    "\n",
    "Esta consulta establecerá la semilla en 0.5. A partir de este punto, cualquier llamada a funciones de generación de números aleatorios en la misma sesión utilizará esta semilla para iniciar la secuencia.\n",
    "\n",
    "Es importante destacar que el valor pasado a setseed() debe estar entre -1 y 1. Esto es porque PostgreSQL utiliza la técnica de \"generador de números pseudoaleatorios\" (PRNG), y el valor de la semilla se toma como un número flotante entre -1 y 1."
   ]
  }
 ],
 "metadata": {
  "kernelspec": {
   "display_name": "Python 3 (ipykernel)",
   "language": "python",
   "name": "python3"
  },
  "language_info": {
   "codemirror_mode": {
    "name": "ipython",
    "version": 3
   },
   "file_extension": ".py",
   "mimetype": "text/x-python",
   "name": "python",
   "nbconvert_exporter": "python",
   "pygments_lexer": "ipython3",
   "version": "3.10.16"
  }
 },
 "nbformat": 4,
 "nbformat_minor": 5
}
